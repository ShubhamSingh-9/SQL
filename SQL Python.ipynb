{
 "cells": [
  {
   "cell_type": "code",
   "execution_count": 2,
   "id": "e97c90df",
   "metadata": {},
   "outputs": [
    {
     "name": "stdout",
     "output_type": "stream",
     "text": [
      "Saved users as users.csv\n",
      "Sheet resturants not found in the Excel file\n",
      "Saved food as food.csv\n",
      "Saved menu as menu.csv\n",
      "Saved orders as orders.csv\n",
      "Saved delivery_partner as delivery_partner.csv\n",
      "Saved order_details as order_details.csv\n",
      "Saved restaurants as restaurants.csv\n"
     ]
    }
   ],
   "source": [
    "import pandas as pd\n",
    "\n",
    "# Define the path to your Excel file\n",
    "excel_file_path = 'zomato-schema.xlsx'\n",
    "\n",
    "# List of sheet names to convert to CSV\n",
    "sheet_names_to_convert = ['users', 'resturants', 'food', 'menu', 'orders', 'delivery_partner', 'order_details']\n",
    "\n",
    "# Load the Excel file into a Pandas ExcelFile object\n",
    "xls = pd.ExcelFile(excel_file_path)\n",
    "\n",
    "# Iterate through the specified sheet names and convert to CSV\n",
    "for sheet_name in sheet_names_to_convert:\n",
    "    # Check if the sheet name exists in the Excel file\n",
    "    if sheet_name in xls.sheet_names:\n",
    "        # Load the sheet into a DataFrame\n",
    "        df = xls.parse(sheet_name)\n",
    "        \n",
    "        # Define the path for the CSV file (use the sheet name)\n",
    "        csv_file_path = f'{sheet_name}.csv'\n",
    "        \n",
    "        # Save the DataFrame to a CSV file\n",
    "        df.to_csv(csv_file_path, index=False)\n",
    "        \n",
    "        print(f'Saved {sheet_name} as {csv_file_path}')\n",
    "    else:\n",
    "        print(f'Sheet {sheet_name} not found in the Excel file')\n",
    "\n",
    "# Optional: Convert all sheets to CSV\n",
    "for sheet_name in xls.sheet_names:\n",
    "    if sheet_name not in sheet_names_to_convert:\n",
    "        df = xls.parse(sheet_name)\n",
    "        csv_file_path = f'{sheet_name}.csv'\n",
    "        df.to_csv(csv_file_path, index=False)\n",
    "        print(f'Saved {sheet_name} as {csv_file_path}')"
   ]
  }
 ],
 "metadata": {
  "kernelspec": {
   "display_name": "Python 3 (ipykernel)",
   "language": "python",
   "name": "python3"
  },
  "language_info": {
   "codemirror_mode": {
    "name": "ipython",
    "version": 3
   },
   "file_extension": ".py",
   "mimetype": "text/x-python",
   "name": "python",
   "nbconvert_exporter": "python",
   "pygments_lexer": "ipython3",
   "version": "3.10.11"
  }
 },
 "nbformat": 4,
 "nbformat_minor": 5
}
