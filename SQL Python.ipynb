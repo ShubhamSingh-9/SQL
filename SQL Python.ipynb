{
 "cells": [
  {
   "cell_type": "markdown",
   "id": "b788aa98",
   "metadata": {},
   "source": [
    "# To creat Database"
   ]
  },
  {
   "cell_type": "code",
   "execution_count": 6,
   "id": "2dc19b37",
   "metadata": {},
   "outputs": [
    {
     "name": "stdout",
     "output_type": "stream",
     "text": [
      "Requirement already satisfied: mysql-connector-python in c:\\users\\shubh\\anaconda3\\envs\\env\\lib\\site-packages (8.2.0)\n",
      "Requirement already satisfied: protobuf<=4.21.12,>=4.21.1 in c:\\users\\shubh\\anaconda3\\envs\\env\\lib\\site-packages (from mysql-connector-python) (4.21.12)\n"
     ]
    }
   ],
   "source": [
    "!pip install mysql-connector-python"
   ]
  },
  {
   "cell_type": "code",
   "execution_count": 7,
   "id": "0654076f",
   "metadata": {},
   "outputs": [],
   "source": [
    "import mysql.connector"
   ]
  },
  {
   "cell_type": "code",
   "execution_count": 8,
   "id": "a91b4e8a",
   "metadata": {},
   "outputs": [],
   "source": [
    "# Establish a connection\n",
    "conn = mysql.connector.connect(\n",
    "    host='localhost',\n",
    "    user='root'\n",
    ")"
   ]
  },
  {
   "cell_type": "code",
   "execution_count": 9,
   "id": "ef439b32",
   "metadata": {},
   "outputs": [],
   "source": [
    "# Create a cursor\n",
    "cursor = conn.cursor()"
   ]
  },
  {
   "cell_type": "code",
   "execution_count": 11,
   "id": "eb432bec",
   "metadata": {},
   "outputs": [],
   "source": [
    "# Create a new database\n",
    "database_name = 'data'\n",
    "cursor.execute(f\"CREATE DATABASE {database_name}\")"
   ]
  },
  {
   "cell_type": "markdown",
   "id": "cfd7be13",
   "metadata": {},
   "source": [
    "# To upload file in the database"
   ]
  },
  {
   "cell_type": "code",
   "execution_count": 2,
   "id": "01ad1e5b",
   "metadata": {},
   "outputs": [
    {
     "name": "stdout",
     "output_type": "stream",
     "text": [
      "Name: PyMySQL\n",
      "Version: 1.1.0\n",
      "Summary: Pure Python MySQL Driver\n",
      "Home-page: \n",
      "Author: \n",
      "Author-email: Inada Naoki <songofacandy@gmail.com>, Yutaka Matsubara <yutaka.matsubara@gmail.com>\n",
      "License: MIT License\n",
      "Location: c:\\users\\shubh\\anaconda3\\envs\\env\\lib\\site-packages\n",
      "Requires: \n",
      "Required-by: \n",
      "Requirement already satisfied: pymysql in c:\\users\\shubh\\anaconda3\\envs\\env\\lib\\site-packages (1.1.0)\n",
      "Requirement already satisfied: sqlalchemy in c:\\users\\shubh\\anaconda3\\envs\\env\\lib\\site-packages (1.3.24)\n",
      "Collecting sqlalchemy\n",
      "  Downloading SQLAlchemy-2.0.22-cp310-cp310-win_amd64.whl (2.1 MB)\n",
      "                                              0.0/2.1 MB ? eta -:--:--\n",
      "     --                                       0.1/2.1 MB 3.6 MB/s eta 0:00:01\n",
      "     ----------------                         0.8/2.1 MB 10.6 MB/s eta 0:00:01\n",
      "     -----------------------------------      1.8/2.1 MB 12.8 MB/s eta 0:00:01\n",
      "     ---------------------------------------- 2.1/2.1 MB 11.9 MB/s eta 0:00:00\n",
      "Requirement already satisfied: pymysql in c:\\users\\shubh\\anaconda3\\envs\\env\\lib\\site-packages (1.1.0)\n",
      "Requirement already satisfied: typing-extensions>=4.2.0 in c:\\users\\shubh\\anaconda3\\envs\\env\\lib\\site-packages (from sqlalchemy) (4.5.0)\n",
      "Collecting greenlet!=0.4.17 (from sqlalchemy)\n",
      "  Downloading greenlet-3.0.1-cp310-cp310-win_amd64.whl (287 kB)\n",
      "                                              0.0/287.9 kB ? eta -:--:--\n",
      "     ------------------------------------- 287.9/287.9 kB 17.4 MB/s eta 0:00:00\n",
      "Installing collected packages: greenlet, sqlalchemy\n",
      "  Attempting uninstall: sqlalchemy\n",
      "    Found existing installation: SQLAlchemy 1.3.24\n",
      "    Uninstalling SQLAlchemy-1.3.24:\n",
      "      Successfully uninstalled SQLAlchemy-1.3.24\n",
      "Successfully installed greenlet-3.0.1 sqlalchemy-2.0.22\n"
     ]
    },
    {
     "name": "stderr",
     "output_type": "stream",
     "text": [
      "ERROR: pip's dependency resolver does not currently take into account all the packages that are installed. This behaviour is the source of the following dependency conflicts.\n",
      "dataprep 0.4.5 requires sqlalchemy==1.3.24, but you have sqlalchemy 2.0.22 which is incompatible.\n"
     ]
    }
   ],
   "source": [
    "!pip show pymysql\n",
    "!pip install pymysql\n",
    "#engine = create_engine(\"mysql+pymysql://root@localhost/data\")\n",
    "!pip install --upgrade sqlalchemy pymysql"
   ]
  },
  {
   "cell_type": "code",
   "execution_count": 3,
   "id": "b116e4b2",
   "metadata": {},
   "outputs": [
    {
     "data": {
      "text/plain": [
       "219085"
      ]
     },
     "execution_count": 3,
     "metadata": {},
     "output_type": "execute_result"
    }
   ],
   "source": [
    "import pandas as pd\n",
    "from sqlalchemy import create_engine\n",
    "\n",
    "df = pd.read_csv(\"D:/Studies/ML/Udemy/Machine Learning A-Z (Codes and Datasets)/Machine_learning_Code/SQL/Task/Subquery/olympics_cleaned_v4.csv\")\n",
    "\n",
    "# Replace the placeholders with your MySQL server details\n",
    "host = \"localhost\"  # Provide the actual hostname or IP address of your MySQL server\n",
    "user = \"root\"  # Provide the actual MySQL username\n",
    "database = \"task\"  # Provide the actual database name\n",
    "\n",
    "engine = create_engine(f\"mysql+pymysql://{user}@{host}/{database}\")\n",
    "df.to_sql(\"group\", con=engine, if_exists=\"replace\", index=False)"
   ]
  },
  {
   "cell_type": "code",
   "execution_count": null,
   "id": "aa09a1c6",
   "metadata": {},
   "outputs": [],
   "source": []
  }
 ],
 "metadata": {
  "kernelspec": {
   "display_name": "Python 3 (ipykernel)",
   "language": "python",
   "name": "python3"
  },
  "language_info": {
   "codemirror_mode": {
    "name": "ipython",
    "version": 3
   },
   "file_extension": ".py",
   "mimetype": "text/x-python",
   "name": "python",
   "nbconvert_exporter": "python",
   "pygments_lexer": "ipython3",
   "version": "3.10.11"
  }
 },
 "nbformat": 4,
 "nbformat_minor": 5
}
